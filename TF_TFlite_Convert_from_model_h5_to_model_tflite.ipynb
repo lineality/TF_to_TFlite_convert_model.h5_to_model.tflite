{
  "nbformat": 4,
  "nbformat_minor": 0,
  "metadata": {
    "colab": {
      "name": "TF TFlite Convert from model.h5 to model.tflite.ipynb",
      "provenance": [],
      "collapsed_sections": []
    },
    "kernelspec": {
      "name": "python3",
      "display_name": "Python 3"
    },
    "language_info": {
      "name": "python"
    }
  },
  "cells": [
    {
      "cell_type": "markdown",
      "source": [
        "# Convert from model.h5 to model.tflite\n",
        "\n",
        "https://www.tensorflow.org/lite/convert/"
      ],
      "metadata": {
        "id": "OTFPXB8ZoBAU"
      }
    },
    {
      "cell_type": "markdown",
      "source": [
        "# Step 1: Put your model.h5 file into the directory"
      ],
      "metadata": {
        "id": "iBOZkAsaou-3"
      }
    },
    {
      "cell_type": "markdown",
      "source": [
        "# Step 2: Convert .h5 to .tflite"
      ],
      "metadata": {
        "id": "MM2iLSq1pj_9"
      }
    },
    {
      "cell_type": "code",
      "source": [
        "import tensorflow as tf\n",
        "from tensorflow.keras.models import load_model\n",
        "\n",
        "#######\n",
        "# Load\n",
        "#######\n",
        "\n",
        "# Load the .h5 model file\n",
        "model = load_model('model.h5')\n",
        "\n",
        "# Save the TF model as directory\n",
        "TF_model_directory = 'saved_model/'\n",
        "tf.saved_model.save(model, TF_model_directory)\n",
        "\n",
        "####################################\n",
        "# Make TFlite Version of your Model\n",
        "####################################\n",
        "\n",
        "# Convert the model\n",
        "converter = tf.lite.TFLiteConverter.from_saved_model( TF_model_directory ) # path to the SavedModel directory\n",
        "tflite_model = converter.convert()\n",
        "\n",
        "####################################\n",
        "# Save TFlite Version of your Model\n",
        "####################################\n",
        "\n",
        "# Save the model.\n",
        "with open('model.tflite', 'wb') as f:\n",
        "  f.write(tflite_model)\n",
        "\n",
        "# inspect\n",
        "!ls"
      ],
      "metadata": {
        "colab": {
          "base_uri": "https://localhost:8080/"
        },
        "id": "Gi9KiFuUospD",
        "outputId": "8a1b7468-895b-4c6e-ff84-dc560c2b5b6e"
      },
      "execution_count": 2,
      "outputs": [
        {
          "output_type": "stream",
          "name": "stdout",
          "text": [
            "INFO:tensorflow:Assets written to: saved_model/assets\n"
          ]
        },
        {
          "output_type": "stream",
          "name": "stderr",
          "text": [
            "WARNING:absl:Buffer deduplication procedure will be skipped when flatbuffer library is not properly loaded\n"
          ]
        },
        {
          "output_type": "stream",
          "name": "stdout",
          "text": [
            "model.h5  model.tflite\tsample_data  saved_model\n"
          ]
        }
      ]
    },
    {
      "cell_type": "markdown",
      "source": [
        "# Step 3: Download / Save your models and use them\n",
        "(e.g. download from google colab so the file you made doesn't disappear. Right click on model.ftlite in the file explorere and select 'download' )"
      ],
      "metadata": {
        "id": "djKWJCfPqCIC"
      }
    }
  ]
}